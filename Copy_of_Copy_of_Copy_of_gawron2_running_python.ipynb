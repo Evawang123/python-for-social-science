{
  "cells": [
    {
      "cell_type": "markdown",
      "metadata": {
        "id": "view-in-github",
        "colab_type": "text"
      },
      "source": [
        "<a href=\"https://colab.research.google.com/github/Evawang123/python-for-social-science/blob/master/Copy_of_Copy_of_Copy_of_gawron2_running_python.ipynb\" target=\"_parent\"><img src=\"https://colab.research.google.com/assets/colab-badge.svg\" alt=\"Open In Colab\"/></a>"
      ]
    },
    {
      "cell_type": "markdown",
      "metadata": {
        "id": "UZw4IFWVvTwQ"
      },
      "source": [
        "Note:  If you are looking at this notebook on github and wondering how on earth to run it have a look [at this section of the online book](https://gawron.sdsu.edu/python_for_ss/course_core/book_draft/Introduction/starting_up_python.html).  Bear in mind you'll not only need to download the \"Open in colab\" extension of your Chrome browser.  You'll also need to be logged in to your Google account."
      ]
    },
    {
      "cell_type": "markdown",
      "metadata": {
        "id": "x9s5jJ4klqDx"
      },
      "source": [
        "# Running python"
      ]
    },
    {
      "cell_type": "markdown",
      "metadata": {
        "id": "teAxBAjhlqDy"
      },
      "source": [
        "The first command in the cell below will start off many notebooks.  It loads matplotlib (graphing) tools and numpy (extended math) tools into Python.  It also guarantees your plots will appear in the notebook rather than in a separate window."
      ]
    },
    {
      "cell_type": "code",
      "execution_count": null,
      "metadata": {
        "id": "2ygWvhqBTWXw",
        "outputId": "9388f804-f6c1-4d3e-9e1e-7952eb60afa9"
      },
      "outputs": [
        {
          "data": {
            "text/plain": [
              "'3.7.6 (default, Jan  8 2020, 13:42:34) \\n[Clang 4.0.1 (tags/RELEASE_401/final)]'"
            ]
          },
          "execution_count": 1,
          "metadata": {},
          "output_type": "execute_result"
        }
      ],
      "source": [
        "import sys\n",
        "sys.version"
      ]
    },
    {
      "cell_type": "code",
      "execution_count": null,
      "metadata": {
        "colab": {
          "base_uri": "https://localhost:8080/",
          "height": 85
        },
        "id": "SKB31DKrlqD1",
        "outputId": "cbee5d00-2a8b-47b9-94e7-83ad5aef8618"
      },
      "outputs": [
        {
          "name": "stdout",
          "output_type": "stream",
          "text": [
            "Populating the interactive namespace from numpy and matplotlib\n"
          ]
        }
      ],
      "source": [
        "%pylab inline"
      ]
    },
    {
      "cell_type": "code",
      "execution_count": null,
      "metadata": {
        "id": "2a4Ebz5AlqD8"
      },
      "outputs": [],
      "source": [
        "total_secs = 7684\n",
        "hours = total_secs // 3600\n",
        "secs_still_remaining = total_secs % 3600\n",
        "minutes =  secs_still_remaining // 60\n",
        "secs_finally_remaining = secs_still_remaining  % 60"
      ]
    },
    {
      "cell_type": "markdown",
      "metadata": {
        "id": "-z86imZUlqD_"
      },
      "source": [
        "If youve just loaded this notebook, you might want to run the commands in the cell above.  This is done by placing your cursor in the cell and hitting the enter key **while** holding down shift, which we will henceforth write as `[Shift]`-`[Enter]`.  After you do that the 5 variables will have the values they were assigned in the cell. "
      ]
    },
    {
      "cell_type": "code",
      "execution_count": null,
      "metadata": {
        "id": "HeDbeOsZlqEA",
        "outputId": "8029e9d3-f190-4b64-d876-1c6163343128"
      },
      "outputs": [
        {
          "data": {
            "text/plain": [
              "7685"
            ]
          },
          "execution_count": 4,
          "metadata": {},
          "output_type": "execute_result"
        }
      ],
      "source": [
        "total_secs  + 1"
      ]
    },
    {
      "cell_type": "code",
      "execution_count": null,
      "metadata": {
        "id": "JS6Hr6xxlqED",
        "outputId": "a89999bd-9c59-4da3-ff6e-3ede6f0a02ce"
      },
      "outputs": [
        {
          "data": {
            "text/plain": [
              "2"
            ]
          },
          "execution_count": 5,
          "metadata": {},
          "output_type": "execute_result"
        }
      ],
      "source": [
        "hours"
      ]
    },
    {
      "cell_type": "code",
      "execution_count": null,
      "metadata": {
        "id": "87nSqyjklqEG",
        "outputId": "e12767b1-3e36-4829-caaa-b3ab765e5364"
      },
      "outputs": [
        {
          "data": {
            "text/plain": [
              "8"
            ]
          },
          "execution_count": 6,
          "metadata": {},
          "output_type": "execute_result"
        }
      ],
      "source": [
        "minutes"
      ]
    },
    {
      "cell_type": "code",
      "execution_count": null,
      "metadata": {
        "id": "g35ld2tUlqEK",
        "outputId": "7fe86f9b-b5a6-4ec1-afda-26ce6f5a5c50"
      },
      "outputs": [
        {
          "data": {
            "text/plain": [
              "484"
            ]
          },
          "execution_count": 7,
          "metadata": {},
          "output_type": "execute_result"
        }
      ],
      "source": [
        "secs_still_remaining"
      ]
    },
    {
      "cell_type": "code",
      "execution_count": null,
      "metadata": {
        "id": "QpbHNDK_lqEN",
        "outputId": "2c1f6cba-0da9-4418-ddff-13912155a176"
      },
      "outputs": [
        {
          "data": {
            "text/plain": [
              "4"
            ]
          },
          "execution_count": 8,
          "metadata": {},
          "output_type": "execute_result"
        }
      ],
      "source": [
        "secs_finally_remaining"
      ]
    },
    {
      "cell_type": "markdown",
      "metadata": {
        "id": "C5Ulk3VslqEQ"
      },
      "source": [
        "To look at the values of a set of variables you can do what we just did, typing each variable to Python, but there are some other options.  One is to type a tuple to Python, to look at several variables at once."
      ]
    },
    {
      "cell_type": "code",
      "execution_count": null,
      "metadata": {
        "id": "54WkydbllqER",
        "outputId": "6d712cee-a64b-4544-f2e0-a758d9897b62"
      },
      "outputs": [
        {
          "data": {
            "text/plain": [
              "(7684, 2, 8, 484, 4)"
            ]
          },
          "execution_count": 9,
          "metadata": {},
          "output_type": "execute_result"
        }
      ],
      "source": [
        "(total_secs, hours, minutes, secs_still_remaining,secs_finally_remaining)"
      ]
    },
    {
      "cell_type": "markdown",
      "metadata": {
        "id": "q7br_VDjlqEU"
      },
      "source": [
        "Another is to use Python's print statement."
      ]
    },
    {
      "cell_type": "code",
      "execution_count": null,
      "metadata": {
        "id": "F9lgEGXglqEU",
        "outputId": "2132f435-fe00-4fa6-b6d2-47c3ff72d61d",
        "scrolled": true
      },
      "outputs": [
        {
          "name": "stdout",
          "output_type": "stream",
          "text": [
            "Hrs = 2 mins = 8 secs = 4\n"
          ]
        }
      ],
      "source": [
        "print(\"Hrs =\", hours, \"mins =\", minutes, \"secs =\", secs_finally_remaining)"
      ]
    },
    {
      "cell_type": "markdown",
      "metadata": {
        "id": "UGKXzHOfTWX7"
      },
      "source": [
        "Or equivalently and slightly more conveniently"
      ]
    },
    {
      "cell_type": "code",
      "execution_count": null,
      "metadata": {
        "id": "uQSa0RpXTWX7",
        "outputId": "53981a9d-435c-4353-a955-2055c1a0e59a"
      },
      "outputs": [
        {
          "name": "stdout",
          "output_type": "stream",
          "text": [
            "Hrs = 2 mins = 8 secs = 4\n"
          ]
        }
      ],
      "source": [
        "print(f\"Hrs = {hours} mins = {minutes} secs = {secs_finally_remaining}\")"
      ]
    },
    {
      "cell_type": "markdown",
      "metadata": {
        "id": "auQl1QerTWX7"
      },
      "source": [
        "Notice the curly braces are important."
      ]
    },
    {
      "cell_type": "code",
      "execution_count": null,
      "metadata": {
        "id": "dtDUo9znTWX8",
        "outputId": "c7dbbbb6-c073-42bb-ee4a-ebfe17d30e4f"
      },
      "outputs": [
        {
          "name": "stdout",
          "output_type": "stream",
          "text": [
            "Hrs = hours mins = minutes secs = secs_finally_remaining\n"
          ]
        }
      ],
      "source": [
        "print(f\"Hrs = hours mins = minutes secs = secs_finally_remaining\")"
      ]
    },
    {
      "cell_type": "markdown",
      "metadata": {
        "id": "v9Xmmm--lqEX"
      },
      "source": [
        "Some important features of the `print` statement are illustrated. In the first example we see `print` takes any number of arguments, separated by commas.  The commas are interpreted as spaces.  The final argument is not followed by a comma so print adds a newline character (\"\\n\").  The syntax of `print`, which used to  like nothing else in Python (no parens), has been changed in Python 3.0.  The new syntax is what's illustrated here."
      ]
    },
    {
      "cell_type": "markdown",
      "metadata": {
        "id": "TdfbhwySlqEY"
      },
      "source": [
        "# Python arithmetic "
      ]
    },
    {
      "cell_type": "markdown",
      "metadata": {
        "id": "LUmgRRRWlqEZ"
      },
      "source": [
        "Lets look at each of the lines in the code and see what it computes.  Python has two division operators, '//' and '/'. This is illustrated in the next line."
      ]
    },
    {
      "cell_type": "code",
      "execution_count": null,
      "metadata": {
        "id": "m6fl1vcnlqEa",
        "outputId": "0fd2cc60-3c33-4c8c-8585-f8f0cd52415a"
      },
      "outputs": [
        {
          "data": {
            "text/plain": [
              "2"
            ]
          },
          "execution_count": 14,
          "metadata": {},
          "output_type": "execute_result"
        }
      ],
      "source": [
        "total_secs // 3600"
      ]
    },
    {
      "cell_type": "markdown",
      "metadata": {
        "id": "GecQMaQ1lqEd"
      },
      "source": [
        "Note that even though the value of *total_secs* is 7684, the value returned is an integer.  The '//' operator always rounds off to the nearest integer when necessary.  "
      ]
    },
    {
      "cell_type": "code",
      "execution_count": null,
      "metadata": {
        "id": "tn14JrgJlqEe",
        "outputId": "85a92661-a217-49b3-e50d-c16aef734754"
      },
      "outputs": [
        {
          "data": {
            "text/plain": [
              "12.0"
            ]
          },
          "execution_count": 17,
          "metadata": {},
          "output_type": "execute_result"
        }
      ],
      "source": [
        "7200.1//600"
      ]
    },
    {
      "cell_type": "markdown",
      "metadata": {
        "id": "VEpDsT9RlqEh"
      },
      "source": [
        "The '%' operator (also called the **modulus** operator) computes the *remainder* in a division."
      ]
    },
    {
      "cell_type": "code",
      "execution_count": null,
      "metadata": {
        "id": "JFjIFROIlqEh",
        "outputId": "6ffa936f-a022-4676-c7af-77fa56350af5"
      },
      "outputs": [
        {
          "data": {
            "text/plain": [
              "484"
            ]
          },
          "execution_count": 18,
          "metadata": {},
          "output_type": "execute_result"
        }
      ],
      "source": [
        "total_secs % 3600"
      ]
    },
    {
      "cell_type": "code",
      "execution_count": null,
      "metadata": {
        "id": "CdUWppz2lqEk",
        "outputId": "3fd7fec1-d0d1-4c17-e830-4b8b9a6a03c5"
      },
      "outputs": [
        {
          "data": {
            "text/plain": [
              "0.30000000000001137"
            ]
          },
          "execution_count": 19,
          "metadata": {},
          "output_type": "execute_result"
        }
      ],
      "source": [
        "345.3 % 3"
      ]
    },
    {
      "cell_type": "markdown",
      "metadata": {
        "id": "whOazm8UlqEn"
      },
      "source": [
        "## Basic arithmetic"
      ]
    },
    {
      "cell_type": "markdown",
      "metadata": {
        "id": "g68FE0_blqEn"
      },
      "source": [
        "Multiplication"
      ]
    },
    {
      "cell_type": "code",
      "execution_count": null,
      "metadata": {
        "id": "lnZDltEYlqEp",
        "outputId": "cd4857e9-aac1-4553-a167-8bd98fce826c"
      },
      "outputs": [
        {
          "data": {
            "text/plain": [
              "6"
            ]
          },
          "execution_count": 20,
          "metadata": {},
          "output_type": "execute_result"
        }
      ],
      "source": [
        "3 * 2"
      ]
    },
    {
      "cell_type": "markdown",
      "metadata": {
        "id": "-z2LnvEjlqEt"
      },
      "source": [
        "Addition"
      ]
    },
    {
      "cell_type": "code",
      "execution_count": null,
      "metadata": {
        "id": "nYm0jGY2lqEu",
        "outputId": "51b900d8-84f9-4a40-ee2a-ec2f1445fb03"
      },
      "outputs": [
        {
          "data": {
            "text/plain": [
              "5"
            ]
          },
          "execution_count": 21,
          "metadata": {},
          "output_type": "execute_result"
        }
      ],
      "source": [
        "3 + 2"
      ]
    },
    {
      "cell_type": "markdown",
      "metadata": {
        "id": "KX_F9O2BlqEy"
      },
      "source": [
        "Subtraction"
      ]
    },
    {
      "cell_type": "code",
      "execution_count": null,
      "metadata": {
        "id": "tQmvhITolqEz",
        "outputId": "7ed11841-c802-46ef-ef6a-598afefa0d4b"
      },
      "outputs": [
        {
          "data": {
            "text/plain": [
              "1"
            ]
          },
          "execution_count": 22,
          "metadata": {},
          "output_type": "execute_result"
        }
      ],
      "source": [
        "3 - 2"
      ]
    },
    {
      "cell_type": "markdown",
      "metadata": {
        "id": "PaqeCq0qlqE2"
      },
      "source": [
        "Raising to a power"
      ]
    },
    {
      "cell_type": "code",
      "execution_count": null,
      "metadata": {
        "id": "HuunR6ZblqE3",
        "outputId": "fb64faa3-c620-43a1-9017-e69554af1e51"
      },
      "outputs": [
        {
          "data": {
            "text/plain": [
              "9"
            ]
          },
          "execution_count": 23,
          "metadata": {},
          "output_type": "execute_result"
        }
      ],
      "source": [
        "3 ** 2"
      ]
    },
    {
      "cell_type": "markdown",
      "metadata": {
        "id": "M7uODFS0lqE6"
      },
      "source": [
        "Taking the log.  The next line is log of 3."
      ]
    },
    {
      "cell_type": "code",
      "execution_count": null,
      "metadata": {
        "id": "F7-uXHiHlqE6",
        "outputId": "d02aba77-b040-44ae-c405-d2e53e006bc6"
      },
      "outputs": [
        {
          "data": {
            "text/plain": [
              "1.0986122886681098"
            ]
          },
          "execution_count": 24,
          "metadata": {},
          "output_type": "execute_result"
        }
      ],
      "source": [
        "log(3)"
      ]
    },
    {
      "cell_type": "markdown",
      "metadata": {
        "id": "St96VgO5lqE9"
      },
      "source": [
        "In regular Python, this would be a `NameError` because the *log function* is not one of the builtin Python math functions.  But because we executed `%pylab` when we started up this notebook, all the extended math functions defined in the `numpy` module are defined.  One of those is `log`.  As an example of some possible pitfalls, we'll compare this `log` with the more vanilla version from the standard Python `math` module.  `math.log` does give the same answers for real numbers."
      ]
    },
    {
      "cell_type": "code",
      "execution_count": null,
      "metadata": {
        "colab": {
          "base_uri": "https://localhost:8080/",
          "height": 34
        },
        "id": "xWuzczGalqE_",
        "outputId": "1f558e21-fb2e-4cf2-e40a-f0cdbdcd51d9"
      },
      "outputs": [
        {
          "data": {
            "text/plain": [
              "1.0986122886681098"
            ]
          },
          "execution_count": 25,
          "metadata": {},
          "output_type": "execute_result"
        }
      ],
      "source": [
        "import math\n",
        "math.log(3)"
      ]
    },
    {
      "cell_type": "markdown",
      "metadata": {
        "id": "tSZ8J3EylqFB"
      },
      "source": [
        "By default, math.log does natural logarithms, as does `numpy.log`, so if you dont specify the base, it is **e**.  But unlike the numpy implementation, `math.log` lets you choose other bases."
      ]
    },
    {
      "cell_type": "code",
      "execution_count": null,
      "metadata": {
        "id": "N3W2eCvRlqFC",
        "outputId": "9f000653-331a-446c-e16c-d196840b0b35"
      },
      "outputs": [
        {
          "data": {
            "text/plain": [
              "(1.5849625007211563, 1.0)"
            ]
          },
          "execution_count": 27,
          "metadata": {},
          "output_type": "execute_result"
        }
      ],
      "source": [
        "math.log(3,2),math.log(3,3)"
      ]
    },
    {
      "cell_type": "markdown",
      "metadata": {
        "id": "vNxr1jGKlqFE"
      },
      "source": [
        "Trying this with the `numpy.log` raises an exception.  `numpy.log` does take a second argument but it's used for purposes we won't delve into right now."
      ]
    },
    {
      "cell_type": "code",
      "execution_count": null,
      "metadata": {
        "id": "L-EcWtrXlqFF",
        "outputId": "4f93078e-996c-477b-8662-0289f911b457"
      },
      "outputs": [
        {
          "ename": "TypeError",
          "evalue": "return arrays must be of ArrayType",
          "output_type": "error",
          "traceback": [
            "\u001b[0;31m---------------------------------------------------------------------------\u001b[0m",
            "\u001b[0;31mTypeError\u001b[0m                                 Traceback (most recent call last)",
            "\u001b[0;32m<ipython-input-28-e5ab6086b242>\u001b[0m in \u001b[0;36m<module>\u001b[0;34m\u001b[0m\n\u001b[0;32m----> 1\u001b[0;31m \u001b[0mlog\u001b[0m\u001b[0;34m(\u001b[0m\u001b[0;36m3\u001b[0m\u001b[0;34m,\u001b[0m\u001b[0;36m2\u001b[0m\u001b[0;34m)\u001b[0m\u001b[0;34m\u001b[0m\u001b[0;34m\u001b[0m\u001b[0m\n\u001b[0m",
            "\u001b[0;31mTypeError\u001b[0m: return arrays must be of ArrayType"
          ]
        }
      ],
      "source": [
        "log(3,2)"
      ]
    },
    {
      "cell_type": "code",
      "execution_count": null,
      "metadata": {
        "colab": {
          "base_uri": "https://localhost:8080/",
          "height": 34
        },
        "id": "xrFNJwLLlqFH",
        "outputId": "c566d1fe-9309-4ba0-9809-deb29d36b0a7"
      },
      "outputs": [
        {
          "data": {
            "text/plain": [
              "1.0"
            ]
          },
          "execution_count": 29,
          "metadata": {},
          "output_type": "execute_result"
        }
      ],
      "source": [
        "from math import e\n",
        "math.log(e)"
      ]
    },
    {
      "cell_type": "code",
      "execution_count": null,
      "metadata": {
        "colab": {
          "base_uri": "https://localhost:8080/",
          "height": 34
        },
        "id": "-j7o52Z9lqFK",
        "outputId": "35a234d4-50f9-4c5a-be58-8871e964eaea"
      },
      "outputs": [
        {
          "data": {
            "text/plain": [
              "2.718281828459045"
            ]
          },
          "execution_count": 30,
          "metadata": {},
          "output_type": "execute_result"
        }
      ],
      "source": [
        "e"
      ]
    },
    {
      "cell_type": "code",
      "execution_count": null,
      "metadata": {
        "id": "uSGh1_GclqFN",
        "outputId": "68e00230-1d96-4b4a-bb3c-86acbc4c6652"
      },
      "outputs": [
        {
          "data": {
            "text/plain": [
              "1.3862943611198906"
            ]
          },
          "execution_count": 31,
          "metadata": {},
          "output_type": "execute_result"
        }
      ],
      "source": [
        "math.log(4)"
      ]
    },
    {
      "cell_type": "code",
      "execution_count": null,
      "metadata": {
        "id": "_xbdw0VMlqFP",
        "outputId": "e0aa4c88-f1ce-4f22-a88d-98d26fb08389"
      },
      "outputs": [
        {
          "data": {
            "text/plain": [
              "2.0"
            ]
          },
          "execution_count": 32,
          "metadata": {},
          "output_type": "execute_result"
        }
      ],
      "source": [
        "math.log(4,2)"
      ]
    },
    {
      "cell_type": "markdown",
      "metadata": {
        "id": "XnRmiiO8lqFS"
      },
      "source": [
        "The numpy version of log is pretty geeky. For example, it's defined for complex numbers."
      ]
    },
    {
      "cell_type": "code",
      "execution_count": null,
      "metadata": {
        "id": "2JfHfmJSlqFT",
        "outputId": "fb1c16d2-beb0-4af5-d92c-66f842097b82"
      },
      "outputs": [
        {
          "data": {
            "text/plain": [
              "(1.2824746787307684+0.5880026035475675j)"
            ]
          },
          "execution_count": 33,
          "metadata": {},
          "output_type": "execute_result"
        }
      ],
      "source": [
        "log(3+2j)"
      ]
    },
    {
      "cell_type": "markdown",
      "metadata": {
        "id": "guzlhKbYlqFW"
      },
      "source": [
        "The regular Python version of log is not."
      ]
    },
    {
      "cell_type": "code",
      "execution_count": null,
      "metadata": {
        "id": "iCFtOO3olqFW",
        "outputId": "34828006-ccc9-42d2-909f-6c3d54f7a213"
      },
      "outputs": [
        {
          "ename": "TypeError",
          "evalue": "can't convert complex to float",
          "output_type": "error",
          "traceback": [
            "\u001b[0;31m---------------------------------------------------------------------------\u001b[0m",
            "\u001b[0;31mTypeError\u001b[0m                                 Traceback (most recent call last)",
            "\u001b[0;32m<ipython-input-34-17df8a628b26>\u001b[0m in \u001b[0;36m<module>\u001b[0;34m\u001b[0m\n\u001b[0;32m----> 1\u001b[0;31m \u001b[0mmath\u001b[0m\u001b[0;34m.\u001b[0m\u001b[0mlog\u001b[0m\u001b[0;34m(\u001b[0m\u001b[0;36m3\u001b[0m\u001b[0;34m+\u001b[0m\u001b[0;36m2j\u001b[0m\u001b[0;34m)\u001b[0m\u001b[0;34m\u001b[0m\u001b[0;34m\u001b[0m\u001b[0m\n\u001b[0m",
            "\u001b[0;31mTypeError\u001b[0m: can't convert complex to float"
          ]
        }
      ],
      "source": [
        "math.log(3+2j)"
      ]
    },
    {
      "cell_type": "markdown",
      "metadata": {
        "id": "qCPY3vLUlqFb"
      },
      "source": [
        "The Python *math* module is very spare and lacks a number of important mathematical tools of interest to data scientists.  Later on in this course we will be introduced to the more complete set of tools available in the *numpy* module."
      ]
    },
    {
      "cell_type": "markdown",
      "metadata": {
        "id": "fCyujxkLlqFc"
      },
      "source": [
        "## Student confirmation section"
      ]
    },
    {
      "cell_type": "markdown",
      "metadata": {
        "id": "f5LzpcwYlqFc"
      },
      "source": [
        "Evaluate the cells below, to find out the value of the expressions.\n",
        "\n",
        "Note that you may get some errors, which we'll talk about.  They have to do when\n",
        "complex numbers are required and how to write them when they are.\n",
        "\n",
        "After evaluating all four cells, save the notebook and submit it on\n",
        "Canvas as your version of the first assignment.  Do not submit\n",
        "the notebook without evaluating the cells, or you won't get credit."
      ]
    },
    {
      "cell_type": "code",
      "execution_count": null,
      "metadata": {
        "id": "uYavvgpslqFd",
        "colab": {
          "base_uri": "https://localhost:8080/",
          "height": 184
        },
        "outputId": "dd756fca-4d86-4460-d4d3-c3e1ef241d08"
      },
      "outputs": [
        {
          "output_type": "error",
          "ename": "NameError",
          "evalue": "ignored",
          "traceback": [
            "\u001b[0;31m---------------------------------------------------------------------------\u001b[0m",
            "\u001b[0;31mNameError\u001b[0m                                 Traceback (most recent call last)",
            "\u001b[0;32m<ipython-input-2-59dfc85bb107>\u001b[0m in \u001b[0;36m<module>\u001b[0;34m()\u001b[0m\n\u001b[1;32m      1\u001b[0m \u001b[0;32mfrom\u001b[0m \u001b[0mmath\u001b[0m \u001b[0;32mimport\u001b[0m \u001b[0mpi\u001b[0m\u001b[0;34m,\u001b[0m\u001b[0me\u001b[0m\u001b[0;34m\u001b[0m\u001b[0;34m\u001b[0m\u001b[0m\n\u001b[0;32m----> 2\u001b[0;31m \u001b[0mpow\u001b[0m\u001b[0;34m(\u001b[0m\u001b[0me\u001b[0m\u001b[0;34m,\u001b[0m\u001b[0;36m0\u001b[0m\u001b[0;34m+\u001b[0m\u001b[0;34m(\u001b[0m\u001b[0mpi\u001b[0m\u001b[0;34m*\u001b[0m\u001b[0mj\u001b[0m\u001b[0;34m)\u001b[0m\u001b[0;34m)\u001b[0m\u001b[0;34m\u001b[0m\u001b[0;34m\u001b[0m\u001b[0m\n\u001b[0m",
            "\u001b[0;31mNameError\u001b[0m: name 'j' is not defined"
          ]
        }
      ],
      "source": [
        "from math import pi,e\n",
        "pow(e,0+(pi*j))"
      ]
    },
    {
      "cell_type": "code",
      "execution_count": null,
      "metadata": {
        "id": "VZvDdThJCIuq",
        "colab": {
          "base_uri": "https://localhost:8080/"
        },
        "outputId": "f467bfa5-a694-47f4-e0a6-4b0cc782a422"
      },
      "outputs": [
        {
          "output_type": "execute_result",
          "data": {
            "text/plain": [
              "(-1+1.2246467991473532e-16j)"
            ]
          },
          "metadata": {},
          "execution_count": 3
        }
      ],
      "source": [
        "pow(e,(1j*pi))"
      ]
    },
    {
      "cell_type": "code",
      "execution_count": null,
      "metadata": {
        "id": "4fQqt5ssTWYL",
        "colab": {
          "base_uri": "https://localhost:8080/",
          "height": 166
        },
        "outputId": "4ba5ced8-5126-44a6-db8e-d156013e53d9"
      },
      "outputs": [
        {
          "output_type": "error",
          "ename": "NameError",
          "evalue": "ignored",
          "traceback": [
            "\u001b[0;31m---------------------------------------------------------------------------\u001b[0m",
            "\u001b[0;31mNameError\u001b[0m                                 Traceback (most recent call last)",
            "\u001b[0;32m<ipython-input-4-f68aba594112>\u001b[0m in \u001b[0;36m<module>\u001b[0;34m()\u001b[0m\n\u001b[0;32m----> 1\u001b[0;31m \u001b[0mlog\u001b[0m\u001b[0;34m(\u001b[0m\u001b[0;34m-\u001b[0m\u001b[0;36m1\u001b[0m\u001b[0;34m)\u001b[0m\u001b[0;34m\u001b[0m\u001b[0;34m\u001b[0m\u001b[0m\n\u001b[0m",
            "\u001b[0;31mNameError\u001b[0m: name 'log' is not defined"
          ]
        }
      ],
      "source": [
        "log(-1)"
      ]
    },
    {
      "cell_type": "code",
      "execution_count": null,
      "metadata": {
        "id": "BFt69_yllqFg",
        "colab": {
          "base_uri": "https://localhost:8080/",
          "height": 166
        },
        "outputId": "c53a5bbb-4141-41b3-ff87-fa018a287af2"
      },
      "outputs": [
        {
          "output_type": "error",
          "ename": "NameError",
          "evalue": "ignored",
          "traceback": [
            "\u001b[0;31m---------------------------------------------------------------------------\u001b[0m",
            "\u001b[0;31mNameError\u001b[0m                                 Traceback (most recent call last)",
            "\u001b[0;32m<ipython-input-5-0bd9e84682d4>\u001b[0m in \u001b[0;36m<module>\u001b[0;34m()\u001b[0m\n\u001b[0;32m----> 1\u001b[0;31m \u001b[0mlog\u001b[0m\u001b[0;34m(\u001b[0m\u001b[0;34m-\u001b[0m\u001b[0;36m1\u001b[0m\u001b[0;34m+\u001b[0m\u001b[0;36m0j\u001b[0m\u001b[0;34m)\u001b[0m\u001b[0;34m\u001b[0m\u001b[0;34m\u001b[0m\u001b[0m\n\u001b[0m",
            "\u001b[0;31mNameError\u001b[0m: name 'log' is not defined"
          ]
        }
      ],
      "source": [
        "log(-1+0j)"
      ]
    },
    {
      "cell_type": "markdown",
      "metadata": {
        "id": "8GtKWyXzD83X"
      },
      "source": [
        ""
      ]
    },
    {
      "cell_type": "markdown",
      "metadata": {
        "id": "vyQgJo2slqFi"
      },
      "source": [
        "# Textbook problems (also to be completed by students)"
      ]
    },
    {
      "cell_type": "markdown",
      "metadata": {
        "id": "B_uZD7hulqFj"
      },
      "source": [
        "Recall the first cell in this notebook."
      ]
    },
    {
      "cell_type": "code",
      "execution_count": null,
      "metadata": {
        "id": "Ppj7a-qalqFj"
      },
      "outputs": [],
      "source": [
        "total_secs = 7684\n",
        "hours = total_secs // 3600\n",
        "secs_still_remaining = total_secs % 3600\n",
        "minutes =  secs_still_remaining // 60\n",
        "secs_finally_remaining = secs_still_remaining  % 60"
      ]
    },
    {
      "cell_type": "markdown",
      "metadata": {
        "id": "0TqVexkglqFm"
      },
      "source": [
        "Each of these 5 lines involves assigning a value to a **name** or **variable**.  Pythonistas use both terms (there is a slight technical difference that needn't worry us now).  For example, the first line assigns the value 7684 to the **name** `total_secs`.  The second line assigns whatever you get by dividing `total_secs` by 3600 to the name `hours`. And so on."
      ]
    },
    {
      "cell_type": "markdown",
      "metadata": {
        "id": "uP9b_MwhlqFn"
      },
      "source": [
        "Above, we printed out information about all the above computations as follows:"
      ]
    },
    {
      "cell_type": "code",
      "execution_count": null,
      "metadata": {
        "id": "lw3OCwBelqFn",
        "outputId": "72503512-a449-4b80-e058-7c87ed202741"
      },
      "outputs": [
        {
          "name": "stdout",
          "output_type": "stream",
          "text": [
            "Hrs = 2 mins = 8 secs = 4\n"
          ]
        }
      ],
      "source": [
        "print(\"Hrs =\", hours, \"mins =\", minutes, \"secs =\", secs_finally_remaining)"
      ]
    },
    {
      "cell_type": "markdown",
      "metadata": {
        "id": "X0ZtKIkylqFq"
      },
      "source": [
        "There was another way to do the same thing that we illustrated:"
      ]
    },
    {
      "cell_type": "code",
      "execution_count": null,
      "metadata": {
        "id": "fzTKL2CllqFq",
        "outputId": "2578d067-d79a-4c1b-84c7-b76621be7195"
      },
      "outputs": [
        {
          "name": "stdout",
          "output_type": "stream",
          "text": [
            "Hrs = 2 mins = 8 secs = 4\n"
          ]
        }
      ],
      "source": [
        "print(f\"Hrs = {hours} mins = {minutes} secs = {secs_finally_remaining}\")"
      ]
    },
    {
      "cell_type": "markdown",
      "metadata": {
        "id": "39ROOwnzlqFt"
      },
      "source": [
        "When we print the string, the bracketed names `{hours}`, `{minutes}` and `{secs_finally_remaining}` are all replaced with the values of the names. For this to work, the names have to have been given values beforehand (as we did above), and we have to tell Python that this is a special kind of string that has variable slots by prefixing the string with \"f\".  Not surprisingly, these kind of strings are called **f-strings**."
      ]
    },
    {
      "cell_type": "markdown",
      "metadata": {
        "id": "YkL8e4sllqFu"
      },
      "source": [
        "**Exercise 1**. For your first exercise, use the cell below. Use a variable to represent a person's name, and print a message to the person using an f-string.  For example the name might be Bozo and the message might be \"Hey Bozo, you're pants are on fire!\""
      ]
    },
    {
      "cell_type": "code",
      "execution_count": null,
      "metadata": {
        "id": "T9zWvHK2lqFu",
        "outputId": "e645698f-a27a-4ae7-ed79-1bfe441047c1"
      },
      "outputs": [
        {
          "name": "stdout",
          "output_type": "stream",
          "text": [
            "Hey Bozo, your pants are on fire!\n"
          ]
        }
      ],
      "source": [
        "name = \"Bozo\"\n",
        "print(f\"Hey {name}, your pants are on fire!\")"
      ]
    },
    {
      "cell_type": "code",
      "execution_count": null,
      "metadata": {
        "colab": {
          "base_uri": "https://localhost:8080/"
        },
        "id": "90VxY7CVlqFz",
        "outputId": "b5e90056-0058-4efd-e794-5bbed67ea132"
      },
      "outputs": [
        {
          "output_type": "stream",
          "name": "stdout",
          "text": [
            "Hey Eva, you are beautiful.\n"
          ]
        }
      ],
      "source": [
        "name = \"Eva\"\n",
        "print(f\"Hey {name}, you are beautiful.\")"
      ]
    },
    {
      "cell_type": "markdown",
      "metadata": {
        "id": "lo_pYBj9lqF6"
      },
      "source": [
        "Your second exercise will make use of the string methods `title`, `upper` and `lower`, illustrated below:"
      ]
    },
    {
      "cell_type": "code",
      "execution_count": null,
      "metadata": {
        "id": "MLzyyLj0lqF6",
        "outputId": "43e6bfdc-3e64-404a-fa08-fe588e1e3a80"
      },
      "outputs": [
        {
          "name": "stdout",
          "output_type": "stream",
          "text": [
            "abcdefghijklmopqrstuvwxyz\n",
            "Abcdefghijklmopqrstuvwxyz\n",
            "abcdefghijklmopqrstuvwxyz\n",
            "ABCDEFGHIJKLMOPQRSTUVWXYZ\n",
            "\n",
            "The quick brown fox jumped over the lazy yellow dog.\n",
            "The Quick Brown Fox Jumped Over The Lazy Yellow Dog.\n",
            "the quick brown fox jumped over the lazy yellow dog.\n",
            "THE QUICK BROWN FOX JUMPED OVER THE LAZY YELLOW DOG.\n"
          ]
        }
      ],
      "source": [
        "alphabet = 'abcdefghijklmopqrstuvwxyz'\n",
        "sentence = 'The quick brown fox jumped over the lazy yellow dog.'\n",
        "\n",
        "print(alphabet)\n",
        "print (alphabet.title())\n",
        "print(alphabet.lower())\n",
        "print(alphabet.upper())\n",
        "print()\n",
        "print(sentence)\n",
        "print (sentence.title())\n",
        "print(sentence.lower())\n",
        "print(sentence.upper())"
      ]
    },
    {
      "cell_type": "markdown",
      "metadata": {
        "id": "nkbOUQAFlqF9"
      },
      "source": [
        "**Exercise 2**.\n",
        "In the next cell, use a variable to represent a person's name and print that name in lower case, upper case, and title case.  Be sure to use f-strings."
      ]
    },
    {
      "cell_type": "code",
      "execution_count": null,
      "metadata": {
        "id": "5fvdK047lqF-",
        "colab": {
          "base_uri": "https://localhost:8080/"
        },
        "outputId": "48931f3e-dbcb-4f28-b0d1-02b6ef5c2d22"
      },
      "outputs": [
        {
          "output_type": "stream",
          "name": "stdout",
          "text": [
            "name=Eva\n",
            "name=eva\n",
            "name=EVA\n"
          ]
        }
      ],
      "source": [
        "name = \"Eva\"\n",
        "print (f\"name={name.title()}\")\n",
        "print(f\"name={name.lower()}\")\n",
        "print(f\"name={name.upper()}\")"
      ]
    },
    {
      "cell_type": "markdown",
      "metadata": {
        "id": "E-eiqq1OlqGI"
      },
      "source": [
        "**Exercise 3**.  Find a quote whose source you know and print the quote and the name of its author.  For example, as a particularly challenging example, you might want to print out\n",
        "\n",
        "```\n",
        "\"There's a sucker born every minute,\" P. T. Barnum once said.\n",
        "```\n",
        "Your answer should go in the next cell.  To understand how to create a string with quotes inside it, you might need to look at [the introduction to strings in the online textbook.](https://gawron.sdsu.edu/python_for_ss/course_core/book_draft/Python_introduction/python_types_first_pass.html#strings)"
      ]
    },
    {
      "cell_type": "code",
      "execution_count": null,
      "metadata": {
        "id": "uX2zwapplqGI"
      },
      "outputs": [],
      "source": [
        ""
      ]
    },
    {
      "cell_type": "markdown",
      "metadata": {
        "id": "MPH4R-5VlqGL"
      },
      "source": [
        "For your next exercise, you'll make use of some Python methods that trim white space (space, tab, newline) off strings.  These are illustrated below.  First `rstrip`:"
      ]
    },
    {
      "cell_type": "code",
      "execution_count": null,
      "metadata": {
        "id": "lAOD9wPwlqGM",
        "outputId": "6590e6d7-97d0-44a6-c0ac-9296fd3fa412"
      },
      "outputs": [
        {
          "name": "stdout",
          "output_type": "stream",
          "text": [
            "fred\n",
            "fred \n",
            "X == Y:  False  len X: 4 len Y: 5\n",
            "X == Z:  True  len X: 4 len Z: 4\n"
          ]
        }
      ],
      "source": [
        "X = \"fred\"\n",
        "print(X)\n",
        "Y = \"fred \"  # add an extra space at the end ...\n",
        "print(Y)  # Looks deceptively just like printing X, BUT\n",
        "print(\"X == Y: \", X == Y, \" len X:\",len(X), \"len Y:\", len(Y))\n",
        "Z = Y.rstrip()  # Now strip away white space on the right.\n",
        "print(\"X == Z: \", X == Z, \" len X:\",len(X), \"len Z:\", len(Z))"
      ]
    },
    {
      "cell_type": "markdown",
      "metadata": {
        "id": "eHgyH3wClqGP"
      },
      "source": [
        "Now the mirror image method, `lstrip`:"
      ]
    },
    {
      "cell_type": "code",
      "execution_count": null,
      "metadata": {
        "id": "ASeNPvy8lqGP",
        "scrolled": false
      },
      "outputs": [],
      "source": [
        "X = \"fred\"\n",
        "print(X)\n",
        "Y = \" fred\"  # add an extra space at the beginning ...\n",
        "print(Y)  # This time X and Y print out differently\n",
        "print(\"X == Y: \", X == Y, \" len X:\",len(X), \"len Y:\", len(Y))\n",
        "Z = Y.lstrip()  # Now strip away white space on the left.\n",
        "print(\"X == Z: \", X == Z, \" len X:\",len(X), \"len Z:\", len(Z))"
      ]
    },
    {
      "cell_type": "markdown",
      "metadata": {
        "id": "E972_yhIlqGT"
      },
      "source": [
        "Now a convenient variant that strips white space on both the right and left sides, a very frequently used method in text preocessing."
      ]
    },
    {
      "cell_type": "code",
      "execution_count": null,
      "metadata": {
        "id": "WJv8aA8plqGT"
      },
      "outputs": [],
      "source": [
        "X = \"fred\"\n",
        "print(X)\n",
        "Y = \" fred \"  # add an extra space at the beginning and at the end...\n",
        "print(Y)  # X and Y print out differently\n",
        "print(\"X == Y: \", X == Y, \" len X:\",len(X), \"len Y:\", len(Y))\n",
        "Z = Y.strip()  # Now strip away white space on both sides.\n",
        "print(\"X == Z: \", X == Z, \" len X:\",len(X), \"len Z:\", len(Z))"
      ]
    },
    {
      "cell_type": "code",
      "execution_count": null,
      "metadata": {
        "id": "ardnSazClqGV"
      },
      "outputs": [],
      "source": [
        "len(Z)"
      ]
    },
    {
      "cell_type": "markdown",
      "metadata": {
        "id": "Wd7r7lUTlqGa"
      },
      "source": [
        "**Exercise 4**.  In the next cell, use a variable to represent a person's name and include some white space both before and after the name.  Print the name once so the white space around the name is displayed.  Then print the name using each of the three stripping functions `lstrip`, `rstrip`, and `strip`."
      ]
    },
    {
      "cell_type": "code",
      "execution_count": null,
      "metadata": {
        "id": "ExH1MQgWlqGa"
      },
      "outputs": [],
      "source": [
        ""
      ]
    },
    {
      "cell_type": "markdown",
      "metadata": {
        "id": "F8PQx7aM2NpY"
      },
      "source": [
        ""
      ]
    },
    {
      "cell_type": "code",
      "execution_count": null,
      "metadata": {
        "id": "ocpwxle4lqGc"
      },
      "outputs": [],
      "source": [
        ""
      ]
    }
  ],
  "metadata": {
    "colab": {
      "collapsed_sections": [],
      "name": "Copy of Copy of Copy of gawron2_running_python.ipynb",
      "provenance": [],
      "include_colab_link": true
    },
    "kernelspec": {
      "display_name": "Python 3",
      "language": "python",
      "name": "python3"
    },
    "language_info": {
      "codemirror_mode": {
        "name": "ipython",
        "version": 3
      },
      "file_extension": ".py",
      "mimetype": "text/x-python",
      "name": "python",
      "nbconvert_exporter": "python",
      "pygments_lexer": "ipython3",
      "version": "3.7.6"
    },
    "toc": {
      "base_numbering": 1,
      "nav_menu": {
        "height": "85px",
        "width": "252px"
      },
      "number_sections": true,
      "sideBar": true,
      "skip_h1_title": false,
      "title_cell": "Table of Contents",
      "title_sidebar": "Contents",
      "toc_cell": false,
      "toc_position": {},
      "toc_section_display": "block",
      "toc_window_display": false
    }
  },
  "nbformat": 4,
  "nbformat_minor": 0
}